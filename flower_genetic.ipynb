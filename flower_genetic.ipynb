{
 "cells": [
  {
   "cell_type": "code",
   "execution_count": 1,
   "metadata": {},
   "outputs": [],
   "source": [
    "import pandas as pd\n",
    "from itertools import permutations\n",
    "import collections"
   ]
  },
  {
   "cell_type": "code",
   "execution_count": 2,
   "metadata": {},
   "outputs": [],
   "source": [
    "def get_code_to_color(df):\n",
    "    if len(df.iloc[0]['Genotype'])==6:\n",
    "        df['gene_series'] = df.Genotype.apply(lambda x: x[:2]+'-'+x[2:4]+'-'+x[4:])\n",
    "    else:\n",
    "        df['gene_series'] = df.Genotype.apply(lambda x: x[:2]+'-'+x[2:4]+'-'+x[4:6]+'-'+x[6:])\n",
    "    return pd.Series(df.Color.values, index= df.gene_series).to_dict()"
   ]
  },
  {
   "cell_type": "code",
   "execution_count": 3,
   "metadata": {},
   "outputs": [],
   "source": [
    "roses_dict = get_code_to_color(pd.read_excel('flower_code.xlsx',sheet_name='Roses'))\n",
    "cosmos_dict = get_code_to_color(pd.read_excel('flower_code.xlsx',sheet_name='Cosmos'))\n",
    "lilies_dict = get_code_to_color(pd.read_excel('flower_code.xlsx',sheet_name='Lilies'))\n",
    "pansies_dict = get_code_to_color(pd.read_excel('flower_code.xlsx',sheet_name='Pansies'))\n",
    "hyacinths_dict = get_code_to_color(pd.read_excel('flower_code.xlsx',sheet_name='Hyacinths'))\n",
    "tulips_dict = get_code_to_color(pd.read_excel('flower_code.xlsx',sheet_name='Tulips'))\n",
    "mums_dict = get_code_to_color(pd.read_excel('flower_code.xlsx',sheet_name='Mums'))\n",
    "windflowers_dict = get_code_to_color(pd.read_excel('flower_code.xlsx',sheet_name='Windflowers'))"
   ]
  },
  {
   "cell_type": "code",
   "execution_count": 4,
   "metadata": {},
   "outputs": [],
   "source": [
    "flower_dict = {\n",
    "    'rose':roses_dict,\n",
    "    'cosmo':cosmos_dict,\n",
    "    'lily':lilies_dict,\n",
    "    'pansy':pansies_dict,\n",
    "    'hyacinth':hyacinths_dict,\n",
    "    'tulip':tulips_dict,\n",
    "    'mum':mums_dict,\n",
    "    'windflower':windflowers_dict\n",
    "}"
   ]
  },
  {
   "cell_type": "code",
   "execution_count": 5,
   "metadata": {},
   "outputs": [],
   "source": [
    "class flowerGenetic(object):\n",
    "    def __init__(self, flower_name, gene_series):\n",
    "        self.gene_series = gene_series\n",
    "        self.flower_name = flower_name\n",
    "        self.color = self.set_color()\n",
    "        \n",
    "    def get_gene_series(self):\n",
    "        return self.gene_series\n",
    "    \n",
    "    def get_color(self):\n",
    "        return self.color\n",
    "    \n",
    "    def set_color(self):\n",
    "        color_dict = flower_dict[self.flower_name]\n",
    "        if self.gene_series in color_dict.keys():\n",
    "            return color_dict[self.gene_series]\n",
    "        else:\n",
    "            return 'invalid'\n",
    "    \n",
    "    def combine(self, gene1, gene2):\n",
    "        gene1X = gene1[0]\n",
    "        gene1Y = gene1[1]\n",
    "        \n",
    "        gene2X = gene2[0]\n",
    "        gene2Y = gene2[1]\n",
    "        \n",
    "        genes = list(set([gene1X+gene2X,\n",
    "                gene1X+gene2Y,\n",
    "                gene1Y+gene2X,\n",
    "                gene1Y+gene2Y]))\n",
    "    \n",
    "        new_gene = []\n",
    "        for gene in genes:\n",
    "            if gene[0] == gene[1]:\n",
    "                new_gene.append(gene)\n",
    "            else:\n",
    "                #print(gene)\n",
    "                if gene[0] == gene[0].upper():\n",
    "                    new_gene.append(gene)\n",
    "        return list(sorted(new_gene))\n",
    "        \n",
    "        \n",
    "    def interact(self, another_flower):\n",
    "        my_gene = self.gene_series.split('-')\n",
    "        her_gene = another_flower.get_gene_series().split('-')\n",
    "        \n",
    "        new_gene_list = []\n",
    "        for ind, my_sub_gene in enumerate(my_gene):\n",
    "            her_sub_gene = her_gene[ind]\n",
    "            new_sub_genes = self.combine(my_sub_gene, her_sub_gene)\n",
    "            new_gene_list.append(new_sub_genes)\n",
    "        output_gene = []\n",
    "        if len(my_gene) == 4:\n",
    "            for r in new_gene_list[0]:\n",
    "                for y in new_gene_list[1]:\n",
    "                    for w in new_gene_list[2]:\n",
    "                        for s in new_gene_list[3]:\n",
    "                            new_flower = r+'-'+y+'-'+w+'-'+s\n",
    "                            if new_flower in flower_dict[self.flower_name].keys():\n",
    "                                output_gene.append(new_flower)\n",
    "        else:    \n",
    "            for r in new_gene_list[0]:\n",
    "                for y in new_gene_list[1]:\n",
    "                    for w in new_gene_list[2]:\n",
    "                        new_flower = r+'-'+y+'-'+w\n",
    "                        if new_flower in flower_dict[self.flower_name].keys():\n",
    "                            output_gene.append(new_flower)\n",
    "         \n",
    "        return output_gene"
   ]
  },
  {
   "cell_type": "code",
   "execution_count": 6,
   "metadata": {},
   "outputs": [],
   "source": [
    "class Flower(object):\n",
    "    def __init__(self, flower, first_seed_gene, second_seed_gene, third_seed_gene):\n",
    "        self.flower = flower\n",
    "        self.first_seed_gene = first_seed_gene\n",
    "        self.second_seed_gene = second_seed_gene\n",
    "        self.third_seed_gene = third_seed_gene\n",
    "        self.color_dict = flower_dict[flower]\n",
    "        self.raw_breeding_table = None\n",
    "        self.all_genes = None\n",
    "    \n",
    "    def get_current_permutations(self, all_current_breeds):\n",
    "        '''get current breeding premutations'''\n",
    "        breeding_pair = []\n",
    "        for breed in all_current_breeds:\n",
    "            breeding_pair.append([breed,breed])\n",
    "\n",
    "        permutes = list(permutations(all_current_breeds,2))\n",
    "        for pair in permutes:\n",
    "            new_pair = sorted(pair)\n",
    "            if new_pair not in breeding_pair:\n",
    "                breeding_pair.append(new_pair)\n",
    "        return sorted(breeding_pair)\n",
    "    \n",
    "    def get_color(self, genes):\n",
    "        color_dict = flower_dict[self.flower]\n",
    "        if genes in color_dict.keys():\n",
    "            return color_dict[genes]\n",
    "        else:\n",
    "            return 'invalid'\n",
    "        \n",
    "    def get_all_genes(self):\n",
    "        return self.all_genes\n",
    "        \n",
    "    def start_breeding(self):\n",
    "        # basic seed breading\n",
    "        current_breeds = [self.first_seed_gene, self.second_seed_gene, self.third_seed_gene]\n",
    "        \n",
    "        breeded_pair = []\n",
    "        breeding_results_track = []\n",
    "        \n",
    "        keep_breading = True\n",
    "        while keep_breading:\n",
    "            # get possible breeding pairs:\n",
    "            current_breeding_pair = self.get_current_permutations(current_breeds)\n",
    "            \n",
    "            # start breeding for each pair\n",
    "            updated = 0\n",
    "            for pair in current_breeding_pair:\n",
    "                if pair in breeded_pair:\n",
    "                    continue\n",
    "                #print('Pair to breed: ', pair)\n",
    "                flower1 = flowerGenetic(self.flower, pair[0])\n",
    "                flower2 = flowerGenetic(self.flower, pair[1])\n",
    "                new_breeds = flower1.interact(flower2)\n",
    "                #print('Breeded results: ',new_breeds)\n",
    "                breeding_results_track.append([pair, new_breeds])\n",
    "                \n",
    "                \n",
    "                for new_breed in new_breeds:\n",
    "                    if new_breed not in current_breeds:\n",
    "                        #print('it is a new gene: ', new_breed)\n",
    "                        current_breeds.append(new_breed)\n",
    "                        updated+=1\n",
    "            #print(updated)\n",
    "            if updated ==0:\n",
    "                keep_breading = False\n",
    "            breeded_pair.append(pair)\n",
    "            \n",
    "        breeding_results = pd.DataFrame(breeding_results_track, columns = ['breading_pair', 'breading_results'])\n",
    "        self.raw_breeding_table = breeding_results\n",
    "        self.all_genes = current_breeds\n",
    "        return breeding_results\n",
    "    \n",
    "    def get_breading_table(self):\n",
    "        \n",
    "        if self.raw_breeding_table is None:\n",
    "            self.start_breeding()\n",
    "        \n",
    "        table = self.raw_breeding_table\n",
    "        \n",
    "        breeded = table.loc[table.breading_results.apply(lambda x:x != [])]\n",
    "        breeded = breeded.copy()\n",
    "        breeded['breading_pair_color'] = breeded['breading_pair'].apply(lambda x: list(map(lambda y: self.get_color(y), x)))\n",
    "        breeded['breading_results_color'] = breeded['breading_results'].apply(lambda x: list(map(lambda y: self.get_color(y), x)))\n",
    "        breeded['probability'] = breeded['breading_results'].apply(lambda x: list(map(lambda y: str(int(1.0/len(x)*100))+'%', x)))\n",
    "\n",
    "        return breeded"
   ]
  },
  {
   "cell_type": "code",
   "execution_count": 7,
   "metadata": {},
   "outputs": [
    {
     "data": {
      "text/plain": [
       "(6, (17, 5))"
      ]
     },
     "execution_count": 7,
     "metadata": {},
     "output_type": "execute_result"
    }
   ],
   "source": [
    "lily = Flower('lily', 'RR-yy-Ss', 'rr-YY-ss','rr-yy-SS')\n",
    "lily_results_table = lily.get_breading_table()\n",
    "len(lily.get_all_genes()), lily_results_table.shape"
   ]
  },
  {
   "cell_type": "code",
   "execution_count": 9,
   "metadata": {},
   "outputs": [],
   "source": [
    "lily_results_table.to_csv('lily_genes.csv',index=False)"
   ]
  },
  {
   "cell_type": "code",
   "execution_count": 10,
   "metadata": {},
   "outputs": [
    {
     "data": {
      "text/plain": [
       "(15, (138, 5))"
      ]
     },
     "execution_count": 10,
     "metadata": {},
     "output_type": "execute_result"
    }
   ],
   "source": [
    "mum = Flower('mum', 'RR-yy-WW', 'rr-YY-WW','rr-yy-Ww')\n",
    "mum_results_table = mum.get_breading_table()\n",
    "len(mum.get_all_genes()), mum_results_table.shape"
   ]
  },
  {
   "cell_type": "code",
   "execution_count": 11,
   "metadata": {},
   "outputs": [],
   "source": [
    "mum_results_table.to_csv('mum_genes.csv',index=False)"
   ]
  },
  {
   "cell_type": "code",
   "execution_count": 12,
   "metadata": {},
   "outputs": [
    {
     "data": {
      "text/plain": [
       "(33, (504, 5))"
      ]
     },
     "execution_count": 12,
     "metadata": {},
     "output_type": "execute_result"
    }
   ],
   "source": [
    "rose = Flower('rose', 'RR-yy-WW-Ss', 'rr-YY-WW-ss','rr-yy-Ww-ss')\n",
    "rose_results_table = rose.get_breading_table()\n",
    "len(rose.get_all_genes()), rose_results_table.shape"
   ]
  },
  {
   "cell_type": "code",
   "execution_count": 18,
   "metadata": {},
   "outputs": [],
   "source": [
    "rose_results_table.to_csv('rose_genes.csv',index=False)"
   ]
  },
  {
   "cell_type": "code",
   "execution_count": 13,
   "metadata": {},
   "outputs": [
    {
     "data": {
      "text/plain": [
       "(11, (57, 5))"
      ]
     },
     "execution_count": 13,
     "metadata": {},
     "output_type": "execute_result"
    }
   ],
   "source": [
    "cosmo = Flower('cosmo', 'RR-yy-ss', 'rr-YY-Ss','rr-yy-Ss')\n",
    "cosmo_results_table = cosmo.get_breading_table()\n",
    "len(cosmo.get_all_genes()), cosmo_results_table.shape"
   ]
  },
  {
   "cell_type": "code",
   "execution_count": 19,
   "metadata": {},
   "outputs": [],
   "source": [
    "cosmo_results_table.to_csv('cosmo_genes.csv',index=False)"
   ]
  },
  {
   "cell_type": "code",
   "execution_count": 14,
   "metadata": {},
   "outputs": [
    {
     "data": {
      "text/plain": [
       "(15, (138, 5))"
      ]
     },
     "execution_count": 14,
     "metadata": {},
     "output_type": "execute_result"
    }
   ],
   "source": [
    "pansy = Flower('pansy', 'RR-yy-WW', 'rr-YY-WW','rr-yy-Ww')\n",
    "pansy_results_table = pansy.get_breading_table()\n",
    "len(pansy.get_all_genes()), pansy_results_table.shape"
   ]
  },
  {
   "cell_type": "code",
   "execution_count": 20,
   "metadata": {},
   "outputs": [],
   "source": [
    "pansy_results_table.to_csv('pansy_genes.csv',index=False)"
   ]
  },
  {
   "cell_type": "code",
   "execution_count": 15,
   "metadata": {},
   "outputs": [
    {
     "data": {
      "text/plain": [
       "(11, (59, 5))"
      ]
     },
     "execution_count": 15,
     "metadata": {},
     "output_type": "execute_result"
    }
   ],
   "source": [
    "tulip = Flower('tulip', 'RR-yy-Ss', 'rr-YY-ss','rr-yy-Ss')\n",
    "tulip_results_table = tulip.get_breading_table()\n",
    "len(tulip.get_all_genes()), tulip_results_table.shape"
   ]
  },
  {
   "cell_type": "code",
   "execution_count": 21,
   "metadata": {},
   "outputs": [],
   "source": [
    "tulip_results_table.to_csv('tulip_genes.csv',index=False)"
   ]
  },
  {
   "cell_type": "code",
   "execution_count": 16,
   "metadata": {},
   "outputs": [
    {
     "data": {
      "text/plain": [
       "(15, (163, 5))"
      ]
     },
     "execution_count": 16,
     "metadata": {},
     "output_type": "execute_result"
    }
   ],
   "source": [
    "hyacinth = Flower('hyacinth', 'RR-yy-Ww', 'rr-YY-WW','rr-yy-Ww')\n",
    "hyacinth_results_table = hyacinth.get_breading_table()\n",
    "len(hyacinth.get_all_genes()), hyacinth_results_table.shape"
   ]
  },
  {
   "cell_type": "code",
   "execution_count": 22,
   "metadata": {},
   "outputs": [],
   "source": [
    "hyacinth_results_table.to_csv('hyacinth_genes.csv',index=False)"
   ]
  },
  {
   "cell_type": "code",
   "execution_count": 17,
   "metadata": {},
   "outputs": [
    {
     "data": {
      "text/plain": [
       "(15, (138, 5))"
      ]
     },
     "execution_count": 17,
     "metadata": {},
     "output_type": "execute_result"
    }
   ],
   "source": [
    "windflower = Flower('windflower', 'RR-oo-WW', 'rr-OO-WW','rr-oo-Ww')\n",
    "windflower_results_table = windflower.get_breading_table()\n",
    "len(windflower.get_all_genes()), windflower_results_table.shape"
   ]
  },
  {
   "cell_type": "code",
   "execution_count": 23,
   "metadata": {},
   "outputs": [],
   "source": [
    "windflower_results_table.to_csv('windflower_genes.csv',index=False)"
   ]
  },
  {
   "cell_type": "code",
   "execution_count": 24,
   "metadata": {},
   "outputs": [
    {
     "data": {
      "text/html": [
       "<div>\n",
       "<style scoped>\n",
       "    .dataframe tbody tr th:only-of-type {\n",
       "        vertical-align: middle;\n",
       "    }\n",
       "\n",
       "    .dataframe tbody tr th {\n",
       "        vertical-align: top;\n",
       "    }\n",
       "\n",
       "    .dataframe thead th {\n",
       "        text-align: right;\n",
       "    }\n",
       "</style>\n",
       "<table border=\"1\" class=\"dataframe\">\n",
       "  <thead>\n",
       "    <tr style=\"text-align: right;\">\n",
       "      <th></th>\n",
       "      <th>breading_pair</th>\n",
       "      <th>breading_results</th>\n",
       "      <th>breading_pair_color</th>\n",
       "      <th>breading_results_color</th>\n",
       "      <th>probability</th>\n",
       "    </tr>\n",
       "  </thead>\n",
       "  <tbody>\n",
       "    <tr>\n",
       "      <td>0</td>\n",
       "      <td>[RR-oo-WW, RR-oo-WW]</td>\n",
       "      <td>[RR-oo-WW]</td>\n",
       "      <td>[Red (seed), Red (seed)]</td>\n",
       "      <td>[Red (seed)]</td>\n",
       "      <td>[100%]</td>\n",
       "    </tr>\n",
       "    <tr>\n",
       "      <td>2</td>\n",
       "      <td>[RR-oo-WW, rr-oo-Ww]</td>\n",
       "      <td>[Rr-oo-WW, Rr-oo-Ww]</td>\n",
       "      <td>[Red (seed), White (seed)]</td>\n",
       "      <td>[Red, Red]</td>\n",
       "      <td>[50%, 50%]</td>\n",
       "    </tr>\n",
       "    <tr>\n",
       "      <td>3</td>\n",
       "      <td>[rr-OO-WW, rr-OO-WW]</td>\n",
       "      <td>[rr-OO-WW]</td>\n",
       "      <td>[Orange (seed), Orange (seed)]</td>\n",
       "      <td>[Orange (seed)]</td>\n",
       "      <td>[100%]</td>\n",
       "    </tr>\n",
       "    <tr>\n",
       "      <td>4</td>\n",
       "      <td>[rr-OO-WW, rr-oo-Ww]</td>\n",
       "      <td>[rr-Oo-WW, rr-Oo-Ww]</td>\n",
       "      <td>[Orange (seed), White (seed)]</td>\n",
       "      <td>[Orange, Orange]</td>\n",
       "      <td>[50%, 50%]</td>\n",
       "    </tr>\n",
       "    <tr>\n",
       "      <td>5</td>\n",
       "      <td>[rr-oo-Ww, rr-oo-Ww]</td>\n",
       "      <td>[rr-oo-WW, rr-oo-Ww, rr-oo-ww]</td>\n",
       "      <td>[White (seed), White (seed)]</td>\n",
       "      <td>[White, White (seed), Blue]</td>\n",
       "      <td>[33%, 33%, 33%]</td>\n",
       "    </tr>\n",
       "    <tr>\n",
       "      <td>...</td>\n",
       "      <td>...</td>\n",
       "      <td>...</td>\n",
       "      <td>...</td>\n",
       "      <td>...</td>\n",
       "      <td>...</td>\n",
       "    </tr>\n",
       "    <tr>\n",
       "      <td>163</td>\n",
       "      <td>[rr-Oo-ww, rr-oo-ww]</td>\n",
       "      <td>[rr-Oo-ww, rr-oo-ww]</td>\n",
       "      <td>[Blue, Blue]</td>\n",
       "      <td>[Blue, Blue]</td>\n",
       "      <td>[50%, 50%]</td>\n",
       "    </tr>\n",
       "    <tr>\n",
       "      <td>164</td>\n",
       "      <td>[rr-oo-WW, rr-oo-WW]</td>\n",
       "      <td>[rr-oo-WW]</td>\n",
       "      <td>[White, White]</td>\n",
       "      <td>[White]</td>\n",
       "      <td>[100%]</td>\n",
       "    </tr>\n",
       "    <tr>\n",
       "      <td>165</td>\n",
       "      <td>[rr-oo-WW, rr-oo-Ww]</td>\n",
       "      <td>[rr-oo-WW, rr-oo-Ww]</td>\n",
       "      <td>[White, White (seed)]</td>\n",
       "      <td>[White, White (seed)]</td>\n",
       "      <td>[50%, 50%]</td>\n",
       "    </tr>\n",
       "    <tr>\n",
       "      <td>166</td>\n",
       "      <td>[rr-oo-WW, rr-oo-ww]</td>\n",
       "      <td>[rr-oo-Ww]</td>\n",
       "      <td>[White, Blue]</td>\n",
       "      <td>[White (seed)]</td>\n",
       "      <td>[100%]</td>\n",
       "    </tr>\n",
       "    <tr>\n",
       "      <td>167</td>\n",
       "      <td>[rr-oo-Ww, rr-oo-ww]</td>\n",
       "      <td>[rr-oo-Ww, rr-oo-ww]</td>\n",
       "      <td>[White (seed), Blue]</td>\n",
       "      <td>[White (seed), Blue]</td>\n",
       "      <td>[50%, 50%]</td>\n",
       "    </tr>\n",
       "  </tbody>\n",
       "</table>\n",
       "<p>138 rows × 5 columns</p>\n",
       "</div>"
      ],
      "text/plain": [
       "            breading_pair                breading_results  \\\n",
       "0    [RR-oo-WW, RR-oo-WW]                      [RR-oo-WW]   \n",
       "2    [RR-oo-WW, rr-oo-Ww]            [Rr-oo-WW, Rr-oo-Ww]   \n",
       "3    [rr-OO-WW, rr-OO-WW]                      [rr-OO-WW]   \n",
       "4    [rr-OO-WW, rr-oo-Ww]            [rr-Oo-WW, rr-Oo-Ww]   \n",
       "5    [rr-oo-Ww, rr-oo-Ww]  [rr-oo-WW, rr-oo-Ww, rr-oo-ww]   \n",
       "..                    ...                             ...   \n",
       "163  [rr-Oo-ww, rr-oo-ww]            [rr-Oo-ww, rr-oo-ww]   \n",
       "164  [rr-oo-WW, rr-oo-WW]                      [rr-oo-WW]   \n",
       "165  [rr-oo-WW, rr-oo-Ww]            [rr-oo-WW, rr-oo-Ww]   \n",
       "166  [rr-oo-WW, rr-oo-ww]                      [rr-oo-Ww]   \n",
       "167  [rr-oo-Ww, rr-oo-ww]            [rr-oo-Ww, rr-oo-ww]   \n",
       "\n",
       "                breading_pair_color       breading_results_color  \\\n",
       "0          [Red (seed), Red (seed)]                 [Red (seed)]   \n",
       "2        [Red (seed), White (seed)]                   [Red, Red]   \n",
       "3    [Orange (seed), Orange (seed)]              [Orange (seed)]   \n",
       "4     [Orange (seed), White (seed)]             [Orange, Orange]   \n",
       "5      [White (seed), White (seed)]  [White, White (seed), Blue]   \n",
       "..                              ...                          ...   \n",
       "163                    [Blue, Blue]                 [Blue, Blue]   \n",
       "164                  [White, White]                      [White]   \n",
       "165           [White, White (seed)]        [White, White (seed)]   \n",
       "166                   [White, Blue]               [White (seed)]   \n",
       "167            [White (seed), Blue]         [White (seed), Blue]   \n",
       "\n",
       "         probability  \n",
       "0             [100%]  \n",
       "2         [50%, 50%]  \n",
       "3             [100%]  \n",
       "4         [50%, 50%]  \n",
       "5    [33%, 33%, 33%]  \n",
       "..               ...  \n",
       "163       [50%, 50%]  \n",
       "164           [100%]  \n",
       "165       [50%, 50%]  \n",
       "166           [100%]  \n",
       "167       [50%, 50%]  \n",
       "\n",
       "[138 rows x 5 columns]"
      ]
     },
     "execution_count": 24,
     "metadata": {},
     "output_type": "execute_result"
    }
   ],
   "source": [
    "windflower_results_table"
   ]
  },
  {
   "cell_type": "code",
   "execution_count": null,
   "metadata": {},
   "outputs": [],
   "source": []
  }
 ],
 "metadata": {
  "kernelspec": {
   "display_name": "Python 3",
   "language": "python",
   "name": "python3"
  },
  "language_info": {
   "codemirror_mode": {
    "name": "ipython",
    "version": 3
   },
   "file_extension": ".py",
   "mimetype": "text/x-python",
   "name": "python",
   "nbconvert_exporter": "python",
   "pygments_lexer": "ipython3",
   "version": "3.7.4"
  }
 },
 "nbformat": 4,
 "nbformat_minor": 4
}
