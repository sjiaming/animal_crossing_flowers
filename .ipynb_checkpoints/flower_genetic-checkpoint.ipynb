{
 "cells": [
  {
   "cell_type": "code",
   "execution_count": 1,
   "metadata": {},
   "outputs": [],
   "source": [
    "import pandas as pd\n",
    "from itertools import permutations\n",
    "import collections"
   ]
  },
  {
   "cell_type": "markdown",
   "metadata": {},
   "source": [
    "# Backend Functions"
   ]
  },
  {
   "cell_type": "code",
   "execution_count": 2,
   "metadata": {},
   "outputs": [],
   "source": [
    "def get_code_to_color(df):\n",
    "    '''From the source csv to get dictionary\n",
    "    Returns: {gene_series:color_name} dictionary\n",
    "    '''\n",
    "    if len(df.iloc[0]['Genotype'])==6:\n",
    "        df['gene_series'] = df.Genotype.apply(lambda x: x[:2]+'-'+x[2:4]+'-'+x[4:])\n",
    "    else:\n",
    "        df['gene_series'] = df.Genotype.apply(lambda x: x[:2]+'-'+x[2:4]+'-'+x[4:6]+'-'+x[6:])\n",
    "    return pd.Series(df.Color.values, index= df.gene_series).to_dict()"
   ]
  },
  {
   "cell_type": "code",
   "execution_count": 3,
   "metadata": {},
   "outputs": [],
   "source": [
    "class flowerGenetic(object):\n",
    "    def __init__(self, flower_name, gene_series):\n",
    "        self.gene_series = gene_series\n",
    "        self.flower_name = flower_name\n",
    "        self.color = self._set_color()\n",
    "        \n",
    "    def _get_gene_series(self):\n",
    "        return self.gene_series\n",
    "    \n",
    "    def _set_color(self):\n",
    "        color_dict = flower_dict[self.flower_name]\n",
    "        if self.gene_series in color_dict.keys():\n",
    "            return color_dict[self.gene_series]\n",
    "        else:\n",
    "            return 'invalid'\n",
    "\n",
    "    \n",
    "    \n",
    "    def _combine(self, gene1, gene2):\n",
    "        gene1X = gene1[0]\n",
    "        gene1Y = gene1[1]\n",
    "        \n",
    "        gene2X = gene2[0]\n",
    "        gene2Y = gene2[1]\n",
    "        \n",
    "        genes = list(set([gene1X+gene2X,\n",
    "                gene1X+gene2Y,\n",
    "                gene1Y+gene2X,\n",
    "                gene1Y+gene2Y]))\n",
    "    \n",
    "        new_gene = []\n",
    "        for gene in genes:\n",
    "            if gene[0] == gene[1]:\n",
    "                new_gene.append(gene)\n",
    "            else:\n",
    "                #print(gene)\n",
    "                if gene[0] == gene[0].upper():\n",
    "                    new_gene.append(gene)\n",
    "        return list(sorted(new_gene))\n",
    "    \n",
    "    def interact(self, another_flower):\n",
    "        my_gene = self.gene_series.split('-')\n",
    "        her_gene = another_flower._get_gene_series().split('-')\n",
    "        \n",
    "        new_gene_list = []\n",
    "        for ind, my_sub_gene in enumerate(my_gene):\n",
    "            her_sub_gene = her_gene[ind]\n",
    "            new_sub_genes = self._combine(my_sub_gene, her_sub_gene)\n",
    "            new_gene_list.append(new_sub_genes)\n",
    "        output_gene = []\n",
    "        if len(my_gene) == 4:\n",
    "            for r in new_gene_list[0]:\n",
    "                for y in new_gene_list[1]:\n",
    "                    for w in new_gene_list[2]:\n",
    "                        for s in new_gene_list[3]:\n",
    "                            new_flower = r+'-'+y+'-'+w+'-'+s\n",
    "                            if new_flower in flower_dict[self.flower_name].keys():\n",
    "                                output_gene.append(new_flower)\n",
    "        else:    \n",
    "            for r in new_gene_list[0]:\n",
    "                for y in new_gene_list[1]:\n",
    "                    for w in new_gene_list[2]:\n",
    "                        new_flower = r+'-'+y+'-'+w\n",
    "                        if new_flower in flower_dict[self.flower_name].keys():\n",
    "                            output_gene.append(new_flower)\n",
    "         \n",
    "        return output_gene"
   ]
  },
  {
   "cell_type": "code",
   "execution_count": 4,
   "metadata": {},
   "outputs": [],
   "source": [
    "class Flower(object):\n",
    "    def __init__(self, flower_name, first_seed_gene, second_seed_gene, third_seed_gene):\n",
    "        self.flower_name = flower_name\n",
    "        self.first_seed_gene = first_seed_gene\n",
    "        self.second_seed_gene = second_seed_gene\n",
    "        self.third_seed_gene = third_seed_gene\n",
    "        self.color_dict = flower_dict[flower_name]\n",
    "        self.raw_breeding_table = None\n",
    "        self.all_genes = None\n",
    "    \n",
    "    def _get_current_permutations(self, all_current_breeds):\n",
    "        '''get current breeding premutations'''\n",
    "        breeding_pair = []\n",
    "        for breed in all_current_breeds:\n",
    "            breeding_pair.append([breed,breed])\n",
    "\n",
    "        permutes = list(permutations(all_current_breeds,2))\n",
    "        for pair in permutes:\n",
    "            new_pair = sorted(pair)\n",
    "            if new_pair not in breeding_pair:\n",
    "                breeding_pair.append(new_pair)\n",
    "        return sorted(breeding_pair)\n",
    "    \n",
    "    def _get_color(self, genes):\n",
    "        color_dict = flower_dict[self.flower_name]\n",
    "        if genes in color_dict.keys():\n",
    "            return color_dict[genes]\n",
    "        else:\n",
    "            return 'invalid'\n",
    "        \n",
    "    def _start_breeding(self):\n",
    "        # basic seed breading\n",
    "        current_breeds = [self.first_seed_gene, self.second_seed_gene, self.third_seed_gene]\n",
    "        \n",
    "        breeded_pair = []\n",
    "        breeding_results_track = []\n",
    "        \n",
    "        keep_breading = True\n",
    "        while keep_breading:\n",
    "            # get possible breeding pairs:\n",
    "            current_breeding_pair = self._get_current_permutations(current_breeds)\n",
    "            \n",
    "            # start breeding for each pair\n",
    "            updated = 0\n",
    "            for pair in current_breeding_pair:\n",
    "                if pair in breeded_pair:\n",
    "                    continue\n",
    "                #print('Pair to breed: ', pair)\n",
    "                flower1 = flowerGenetic(self.flower_name, pair[0])\n",
    "                flower2 = flowerGenetic(self.flower_name, pair[1])\n",
    "                new_breeds = flower1.interact(flower2)\n",
    "                #print('Breeded results: ',new_breeds)\n",
    "                breeding_results_track.append([pair, new_breeds])\n",
    "                \n",
    "                \n",
    "                for new_breed in new_breeds:\n",
    "                    if new_breed not in current_breeds:\n",
    "                        #print('it is a new gene: ', new_breed)\n",
    "                        current_breeds.append(new_breed)\n",
    "                        updated+=1\n",
    "            #print(updated)\n",
    "            if updated ==0:\n",
    "                keep_breading = False\n",
    "            breeded_pair.append(pair)\n",
    "            \n",
    "        breeding_results = pd.DataFrame(breeding_results_track, columns = ['breading_pair', 'breading_results'])\n",
    "        self.raw_breeding_table = breeding_results\n",
    "        self.all_genes = current_breeds\n",
    "        return breeding_results\n",
    "    \n",
    "    def get_flower_name(self):\n",
    "        return self.flower_name\n",
    "    \n",
    "    def get_all_genes(self):\n",
    "        return self.all_genes\n",
    "    \n",
    "    \n",
    "    def get_breeding_table(self):\n",
    "        \n",
    "        if self.raw_breeding_table is None:\n",
    "            self._start_breeding()\n",
    "        \n",
    "        table = self.raw_breeding_table\n",
    "        \n",
    "        breeded = table.loc[table.breading_results.apply(lambda x:x != [])]\n",
    "        breeded = breeded.copy()\n",
    "        breeded['breading_pair_color'] = breeded['breading_pair'].apply(lambda x: list(map(lambda y: self._get_color(y), x)))\n",
    "        breeded['breading_results_color'] = breeded['breading_results'].apply(lambda x: list(map(lambda y: self._get_color(y), x)))\n",
    "        breeded['probability'] = breeded['breading_results'].apply(lambda x: list(map(lambda y: str(int(1.0/len(x)*100))+'%', x)))\n",
    "\n",
    "        return breeded"
   ]
  },
  {
   "cell_type": "markdown",
   "metadata": {},
   "source": [
    "# Generate breeding sequence and genes for each type of flowers"
   ]
  },
  {
   "cell_type": "markdown",
   "metadata": {},
   "source": [
    "## Read from gene_csv"
   ]
  },
  {
   "cell_type": "code",
   "execution_count": 5,
   "metadata": {},
   "outputs": [],
   "source": [
    "source_csv = 'source/flower_code.xlsx'\n",
    "roses_dict = get_code_to_color(pd.read_excel(source_csv,sheet_name='Roses'))\n",
    "cosmos_dict = get_code_to_color(pd.read_excel(source_csv,sheet_name='Cosmos'))\n",
    "lilies_dict = get_code_to_color(pd.read_excel(source_csv,sheet_name='Lilies'))\n",
    "pansies_dict = get_code_to_color(pd.read_excel(source_csv,sheet_name='Pansies'))\n",
    "hyacinths_dict = get_code_to_color(pd.read_excel(source_csv,sheet_name='Hyacinths'))\n",
    "tulips_dict = get_code_to_color(pd.read_excel(source_csv,sheet_name='Tulips'))\n",
    "mums_dict = get_code_to_color(pd.read_excel(source_csv,sheet_name='Mums'))\n",
    "windflowers_dict = get_code_to_color(pd.read_excel(source_csv,sheet_name='Windflowers'))"
   ]
  },
  {
   "cell_type": "markdown",
   "metadata": {},
   "source": [
    "## Save color dictionary"
   ]
  },
  {
   "cell_type": "code",
   "execution_count": 6,
   "metadata": {},
   "outputs": [],
   "source": [
    "flower_dict = {\n",
    "    'rose':roses_dict,\n",
    "    'cosmo':cosmos_dict,\n",
    "    'lily':lilies_dict,\n",
    "    'pansy':pansies_dict,\n",
    "    'hyacinth':hyacinths_dict,\n",
    "    'tulip':tulips_dict,\n",
    "    'mum':mums_dict,\n",
    "    'windflower':windflowers_dict\n",
    "}"
   ]
  },
  {
   "cell_type": "markdown",
   "metadata": {},
   "source": [
    "## Ininitiate flower classes"
   ]
  },
  {
   "cell_type": "code",
   "execution_count": 7,
   "metadata": {},
   "outputs": [],
   "source": [
    "rose = Flower('rose', 'RR-yy-WW-Ss', 'rr-YY-WW-ss','rr-yy-Ww-ss')\n",
    "cosmo = Flower('cosmo', 'RR-yy-ss', 'rr-YY-Ss','rr-yy-Ss')\n",
    "lily = Flower('lily', 'RR-yy-Ss', 'rr-YY-ss','rr-yy-SS')\n",
    "pansy = Flower('pansy', 'RR-yy-WW', 'rr-YY-WW','rr-yy-Ww')\n",
    "hyacinth = Flower('hyacinth', 'RR-yy-Ww', 'rr-YY-WW','rr-yy-Ww')\n",
    "tulip = Flower('tulip', 'RR-yy-Ss', 'rr-YY-ss','rr-yy-Ss')\n",
    "mum = Flower('mum', 'RR-yy-WW', 'rr-YY-WW','rr-yy-Ww')\n",
    "windflower = Flower('windflower', 'RR-oo-WW', 'rr-OO-WW','rr-oo-Ww')"
   ]
  },
  {
   "cell_type": "markdown",
   "metadata": {},
   "source": [
    "## Start breeding"
   ]
  },
  {
   "cell_type": "code",
   "execution_count": 8,
   "metadata": {},
   "outputs": [],
   "source": [
    "flowers = [rose, cosmo, lily,\n",
    "          pansy, hyacinth,\n",
    "          tulip, mum, windflower]"
   ]
  },
  {
   "cell_type": "code",
   "execution_count": 9,
   "metadata": {},
   "outputs": [
    {
     "name": "stdout",
     "output_type": "stream",
     "text": [
      "rose has 33 of genes, total 504 breeding ways\n",
      "cosmo has 11 of genes, total 57 breeding ways\n",
      "lily has 6 of genes, total 17 breeding ways\n",
      "pansy has 15 of genes, total 138 breeding ways\n",
      "hyacinth has 15 of genes, total 163 breeding ways\n",
      "tulip has 11 of genes, total 59 breeding ways\n",
      "mum has 15 of genes, total 138 breeding ways\n",
      "windflower has 15 of genes, total 138 breeding ways\n"
     ]
    }
   ],
   "source": [
    "for flower in flowers:\n",
    "    flower_table = flower.get_breeding_table()\n",
    "    flower_name = flower.get_flower_name()\n",
    "    print(\"{} has {} of genes, total {} breeding ways\".format(flower_name, len(flower.get_all_genes()), flower_table.shape[0]))\n",
    "    flower_table.to_csv('genes_table/'+flower_name + 'genes_table.csv',index=False)"
   ]
  }
 ],
 "metadata": {
  "kernelspec": {
   "display_name": "Python 3",
   "language": "python",
   "name": "python3"
  },
  "language_info": {
   "codemirror_mode": {
    "name": "ipython",
    "version": 3
   },
   "file_extension": ".py",
   "mimetype": "text/x-python",
   "name": "python",
   "nbconvert_exporter": "python",
   "pygments_lexer": "ipython3",
   "version": "3.7.4"
  }
 },
 "nbformat": 4,
 "nbformat_minor": 4
}
